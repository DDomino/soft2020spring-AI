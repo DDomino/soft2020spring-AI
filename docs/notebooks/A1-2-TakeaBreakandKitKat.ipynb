{
 "cells": [
  {
   "cell_type": "markdown",
   "metadata": {},
   "source": [
    "### Programming Exercise Web Time Loop\n",
    "\n",
    "The __objectives__ are\n",
    "- practicing Python loop statements\n",
    "- counting time with __time__ library\n",
    "- integrating resources from the web with __webbrowser__ library\n",
    "\n",
    "The __task__ is to\n",
    "create a Python program to remaind you that _restless work with your computer is not good for your health_.\n",
    "The program should start playing music or video from the web once per hour.\n",
    "\n",
    "__Recommended__:<br>\n",
    "First, try to analyse the problem and design the solution by asking yourself\n",
    "- what, actually, would you like to be coded?\n",
    "\n",
    "Second, formulate which knowledge about Python, needed for this solution, you already have and which you are still missing\n",
    "- search Google for names of programming objects you want to learn more about\n",
    "\n",
    "Next, get a hint from the instructor's solution provided in a notebook.<br>\n",
    "\n",
    "Finally, create your own alternative solution and upload it in __Peergrade__. If it is correct, it will bring you one point."
   ]
  },
  {
   "cell_type": "markdown",
   "metadata": {},
   "source": [
    "### Here is one solution"
   ]
  },
  {
   "cell_type": "code",
   "execution_count": null,
   "metadata": {},
   "outputs": [],
   "source": [
    "# import library working with time\n",
    "# import library communicating with a web browser\n",
    "import time\n",
    "import webbrowser\n",
    "\n",
    "breaks = 3;    # three breaks per day\n",
    "mybreaks = 0;  # breaks taken until now\n",
    "\n",
    "# now\n",
    "print(\"program started on \" + time.ctime())\n",
    "\n",
    "while (mybreaks < breaks):\n",
    "    time.sleep(1 * 60 * 60)\n",
    "    mybreaks += 1\n",
    "    webbrowser.open(\"https://www.youtube.com/watch?v=...\")\n"
   ]
  },
  {
   "cell_type": "markdown",
   "metadata": {},
   "source": [
    "Submit your solution in Peergrade. If it is correct, it brings you one credit."
   ]
  }
 ],
 "metadata": {
  "kernelspec": {
   "display_name": "Python 3",
   "language": "python",
   "name": "python3"
  },
  "language_info": {
   "codemirror_mode": {
    "name": "ipython",
    "version": 3
   },
   "file_extension": ".py",
   "mimetype": "text/x-python",
   "name": "python",
   "nbconvert_exporter": "python",
   "pygments_lexer": "ipython3",
   "version": "3.7.3"
  }
 },
 "nbformat": 4,
 "nbformat_minor": 2
}
