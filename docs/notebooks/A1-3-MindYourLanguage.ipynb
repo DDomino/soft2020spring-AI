{
 "cells": [
  {
   "cell_type": "markdown",
   "metadata": {},
   "source": [
    "## Programming Exercise Integration of Remote Service\n",
    "\n",
    "__Objective:__ to get experience in \n",
    "- reading files from a server (localhost) \n",
    "- integrating external service from Internet\n",
    "\n",
    "__Problem:__ Some text documents ment for distribution in Internet contain bad language, and need to be either corrected or deleted.\n",
    "The language can be controlled automatically by AI software, which uses linguistic analysis techniques.\n",
    "As an example, a web service for searching unappropriate words in a text is published at http://www.wdylike.appspot.com/ \n",
    "\n",
    "__Task:__ Create a Python program, which\n",
    "- opens a text file from a local folder\n",
    "- reads the text stored in the file\n",
    "- connects to the remote service, which checks profanity in language\n",
    "- sends the content of the file to this service\n",
    "- gets and prints the returned results \n",
    "\n",
    "__Method:__ Plan - Research - Design - Program - Test - Deliver"
   ]
  },
  {
   "cell_type": "code",
   "execution_count": null,
   "metadata": {
    "collapsed": true
   },
   "outputs": [],
   "source": [
    "# Define my file function\n",
    "def read_text():\n",
    "    try:\n",
    "        myfile = open(\"text.txt\")\n",
    "        contents = myfile.read();\n",
    "    except IOError:\n",
    "        print (\"Error: file not found or can not be read\")\n",
    "    else:\n",
    "        myfile.close()\n",
    "        return contents\n",
    "read_text()"
   ]
  },
  {
   "cell_type": "code",
   "execution_count": null,
   "metadata": {
    "collapsed": true
   },
   "outputs": [],
   "source": [
    "# Define my Web Service function\n",
    "from urllib.request import Request, urlopen\n",
    "from urllib.error import URLError\n",
    "# import urllib\n",
    "def get_service(mytext):\n",
    "    # URL connection to Google web service at wdylike.appspot.com \n",
    "    url = \"http://www.wdylike.appspot.com/?q=\" + str(mytext)  \n",
    "\n",
    "    myrequest = Request(url)\n",
    "    \n",
    "    try:\n",
    "        myresponse = urlopen(myrequest).read()\n",
    "    except URLError as e:\n",
    "        if hasattr(e, 'reason'):\n",
    "            print('No connection: ', e.reason)\n",
    "        elif hasattr(e, 'code'):\n",
    "            print('No response', e.code)\n",
    "    else:\n",
    "        # everything is fine\n",
    "        return myresponse"
   ]
  },
  {
   "cell_type": "code",
   "execution_count": null,
   "metadata": {
    "collapsed": true
   },
   "outputs": [],
   "source": [
    "# Define my main function\n",
    "def myrun():\n",
    "    mytext = read_text() \n",
    "    \n",
    "    # split, clean white spaces, and join again\n",
    "    mytext = \"\".join(mytext.split())\n",
    "    \n",
    "    result = get_service(mytext)\n",
    "    result = str(result)\n",
    "    \n",
    "    if \"true\" in result:\n",
    "        print(\"There is a profanity in the contents.\")\n",
    "    elif \"false\" in result:\n",
    "        print(\"There are no known profanities in this document.\")\n",
    "    else:\n",
    "        print(\"Document can not be scanned\")   "
   ]
  },
  {
   "cell_type": "markdown",
   "metadata": {},
   "source": [
    "__Exercise__: Run and test the program above with various text documents and contents."
   ]
  },
  {
   "cell_type": "code",
   "execution_count": null,
   "metadata": {
    "collapsed": true
   },
   "outputs": [],
   "source": [
    "# Call the main function here\n",
    "myrun()"
   ]
  }
 ],
 "metadata": {
  "kernelspec": {
   "display_name": "Python 3",
   "language": "python",
   "name": "python3"
  },
  "language_info": {
   "codemirror_mode": {
    "name": "ipython",
    "version": 3
   },
   "file_extension": ".py",
   "mimetype": "text/x-python",
   "name": "python",
   "nbconvert_exporter": "python",
   "pygments_lexer": "ipython3",
   "version": "3.7.3"
  }
 },
 "nbformat": 4,
 "nbformat_minor": 2
}
